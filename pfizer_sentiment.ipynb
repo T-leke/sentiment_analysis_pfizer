{
 "cells": [
  {
   "cell_type": "code",
   "execution_count": 2,
   "id": "0f80d21e",
   "metadata": {},
   "outputs": [
    {
     "name": "stdout",
     "output_type": "stream",
     "text": [
      "Collecting psycopg2\n",
      "  Downloading psycopg2-2.9.6-cp310-cp310-win_amd64.whl (1.2 MB)\n",
      "     ---------------------------------------- 1.2/1.2 MB 1.4 MB/s eta 0:00:00\n",
      "Installing collected packages: psycopg2\n",
      "Successfully installed psycopg2-2.9.6\n"
     ]
    }
   ],
   "source": [
    "!pip install psycopg2"
   ]
  },
  {
   "cell_type": "code",
   "execution_count": 49,
   "id": "ff63a03a",
   "metadata": {},
   "outputs": [],
   "source": [
    "import psycopg2\n",
    "import pandas as pd"
   ]
  },
  {
   "cell_type": "code",
   "execution_count": 58,
   "id": "2799d322",
   "metadata": {},
   "outputs": [],
   "source": [
    "conn = psycopg2.connect(\n",
    "host=\"localhost\",\n",
    "port=\"5432\",\n",
    "database=\"Bookscrape\",\n",
    "user=\"postgres\",\n",
    "password=\"#Tolexy5038\"\n",
    ")\n",
    "\n",
    "cur = conn.cursor()"
   ]
  },
  {
   "cell_type": "code",
   "execution_count": 59,
   "id": "8f7afb1c",
   "metadata": {},
   "outputs": [],
   "source": [
    "data = \"SELECT * FROM pfizer\"\n",
    "\n",
    "cur.execute(data)\n"
   ]
  },
  {
   "cell_type": "code",
   "execution_count": 60,
   "id": "82abd63c",
   "metadata": {},
   "outputs": [],
   "source": [
    "rows = cur.fetchall()\n",
    "\n",
    "time = []\n",
    "tweets = []\n",
    "\n",
    "for row in rows:\n",
    "    time.append(row[0])\n",
    "    tweets.append(row[1])\n",
    "    \n",
    "conn.commit()\n",
    "cur.close()"
   ]
  },
  {
   "cell_type": "code",
   "execution_count": 63,
   "id": "650db6a3",
   "metadata": {},
   "outputs": [],
   "source": [
    "pfizer_dict = {'time': time, 'tweets': tweets}"
   ]
  },
  {
   "cell_type": "code",
   "execution_count": 67,
   "id": "7d1c68fd",
   "metadata": {},
   "outputs": [],
   "source": [
    "df = pd.DataFrame(pfizer_dict)"
   ]
  },
  {
   "cell_type": "code",
   "execution_count": 68,
   "id": "f775388e",
   "metadata": {},
   "outputs": [
    {
     "data": {
      "text/html": [
       "<div>\n",
       "<style scoped>\n",
       "    .dataframe tbody tr th:only-of-type {\n",
       "        vertical-align: middle;\n",
       "    }\n",
       "\n",
       "    .dataframe tbody tr th {\n",
       "        vertical-align: top;\n",
       "    }\n",
       "\n",
       "    .dataframe thead th {\n",
       "        text-align: right;\n",
       "    }\n",
       "</style>\n",
       "<table border=\"1\" class=\"dataframe\">\n",
       "  <thead>\n",
       "    <tr style=\"text-align: right;\">\n",
       "      <th></th>\n",
       "      <th>time</th>\n",
       "      <th>tweets</th>\n",
       "    </tr>\n",
       "  </thead>\n",
       "  <tbody>\n",
       "    <tr>\n",
       "      <th>0</th>\n",
       "      <td>2023-05-22 21:28:35+01:00</td>\n",
       "      <td>@MajesticTrout @annamerlan @motherboard No. Pf...</td>\n",
       "    </tr>\n",
       "    <tr>\n",
       "      <th>1</th>\n",
       "      <td>2023-05-22 21:28:32+01:00</td>\n",
       "      <td>RT @sonia_elijah: My discussion with @BLNewsMe...</td>\n",
       "    </tr>\n",
       "    <tr>\n",
       "      <th>2</th>\n",
       "      <td>2023-05-22 21:28:22+01:00</td>\n",
       "      <td>RT @DrewSav: This is literally Ron DeSantis wa...</td>\n",
       "    </tr>\n",
       "    <tr>\n",
       "      <th>3</th>\n",
       "      <td>2023-05-22 21:28:22+01:00</td>\n",
       "      <td>RT @jathorpmfm: This is absolutely an abominat...</td>\n",
       "    </tr>\n",
       "    <tr>\n",
       "      <th>4</th>\n",
       "      <td>2023-05-22 21:28:10+01:00</td>\n",
       "      <td>@DidierMaisto Le staff de Pfizer est vacciné ?</td>\n",
       "    </tr>\n",
       "    <tr>\n",
       "      <th>...</th>\n",
       "      <td>...</td>\n",
       "      <td>...</td>\n",
       "    </tr>\n",
       "    <tr>\n",
       "      <th>176</th>\n",
       "      <td>2023-05-22 22:18:58+01:00</td>\n",
       "      <td>RT @DrewSav: This is literally Ron DeSantis wa...</td>\n",
       "    </tr>\n",
       "    <tr>\n",
       "      <th>177</th>\n",
       "      <td>2023-05-22 22:18:58+01:00</td>\n",
       "      <td>RT @EpochTimes: “They made him think that it w...</td>\n",
       "    </tr>\n",
       "    <tr>\n",
       "      <th>178</th>\n",
       "      <td>2023-05-22 22:18:49+01:00</td>\n",
       "      <td>RT @voodoobeans_: The vaccine injured &amp;amp; be...</td>\n",
       "    </tr>\n",
       "    <tr>\n",
       "      <th>179</th>\n",
       "      <td>2023-05-22 22:18:32+01:00</td>\n",
       "      <td>RT @jathorpmfm: This is absolutely an abominat...</td>\n",
       "    </tr>\n",
       "    <tr>\n",
       "      <th>180</th>\n",
       "      <td>2023-05-22 22:18:19+01:00</td>\n",
       "      <td>RT @DrewSav: This is literally Ron DeSantis wa...</td>\n",
       "    </tr>\n",
       "  </tbody>\n",
       "</table>\n",
       "<p>181 rows × 2 columns</p>\n",
       "</div>"
      ],
      "text/plain": [
       "                         time  \\\n",
       "0   2023-05-22 21:28:35+01:00   \n",
       "1   2023-05-22 21:28:32+01:00   \n",
       "2   2023-05-22 21:28:22+01:00   \n",
       "3   2023-05-22 21:28:22+01:00   \n",
       "4   2023-05-22 21:28:10+01:00   \n",
       "..                        ...   \n",
       "176 2023-05-22 22:18:58+01:00   \n",
       "177 2023-05-22 22:18:58+01:00   \n",
       "178 2023-05-22 22:18:49+01:00   \n",
       "179 2023-05-22 22:18:32+01:00   \n",
       "180 2023-05-22 22:18:19+01:00   \n",
       "\n",
       "                                                tweets  \n",
       "0    @MajesticTrout @annamerlan @motherboard No. Pf...  \n",
       "1    RT @sonia_elijah: My discussion with @BLNewsMe...  \n",
       "2    RT @DrewSav: This is literally Ron DeSantis wa...  \n",
       "3    RT @jathorpmfm: This is absolutely an abominat...  \n",
       "4       @DidierMaisto Le staff de Pfizer est vacciné ?  \n",
       "..                                                 ...  \n",
       "176  RT @DrewSav: This is literally Ron DeSantis wa...  \n",
       "177  RT @EpochTimes: “They made him think that it w...  \n",
       "178  RT @voodoobeans_: The vaccine injured &amp; be...  \n",
       "179  RT @jathorpmfm: This is absolutely an abominat...  \n",
       "180  RT @DrewSav: This is literally Ron DeSantis wa...  \n",
       "\n",
       "[181 rows x 2 columns]"
      ]
     },
     "execution_count": 68,
     "metadata": {},
     "output_type": "execute_result"
    }
   ],
   "source": [
    "df"
   ]
  },
  {
   "cell_type": "code",
   "execution_count": null,
   "id": "af834440",
   "metadata": {},
   "outputs": [],
   "source": []
  }
 ],
 "metadata": {
  "kernelspec": {
   "display_name": "Python 3 (ipykernel)",
   "language": "python",
   "name": "python3"
  },
  "language_info": {
   "codemirror_mode": {
    "name": "ipython",
    "version": 3
   },
   "file_extension": ".py",
   "mimetype": "text/x-python",
   "name": "python",
   "nbconvert_exporter": "python",
   "pygments_lexer": "ipython3",
   "version": "3.10.9"
  }
 },
 "nbformat": 4,
 "nbformat_minor": 5
}
